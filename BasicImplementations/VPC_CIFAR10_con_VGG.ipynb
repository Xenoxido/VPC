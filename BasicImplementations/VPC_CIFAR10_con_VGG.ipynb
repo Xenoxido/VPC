{
  "nbformat": 4,
  "nbformat_minor": 0,
  "metadata": {
    "colab": {
      "name": "VPC-CIFAR10 con VGG.ipynb",
      "provenance": [],
      "collapsed_sections": []
    },
    "kernelspec": {
      "name": "python3",
      "display_name": "Python 3"
    },
    "accelerator": "GPU"
  },
  "cells": [
    {
      "cell_type": "markdown",
      "metadata": {
        "id": "6NwyDCwsuMFQ",
        "colab_type": "text"
      },
      "source": [
        "#**Imports y Cargado del dataset**"
      ]
    },
    {
      "cell_type": "code",
      "metadata": {
        "id": "aNLVVxIRuTbR",
        "colab_type": "code",
        "outputId": "f26ec170-b3bd-41f6-b35a-f7a446727301",
        "colab": {
          "base_uri": "https://localhost:8080/",
          "height": 118
        }
      },
      "source": [
        "%tensorflow_version 1.x\n",
        "from __future__ import print_function\n",
        "import keras\n",
        "from keras.datasets import cifar10\n",
        "from keras.models import Sequential\n",
        "from keras.layers import Dense, Dropout, Activation, Flatten\n",
        "from keras.layers import Conv2D, MaxPooling2D\n",
        "from keras.layers.normalization import BatchNormalization as BN\n",
        "from keras.layers import GaussianNoise as GN\n",
        "from keras.optimizers import SGD\n",
        "\n",
        "from keras.callbacks import LearningRateScheduler as LRS\n",
        "from keras.preprocessing.image import ImageDataGenerator\n",
        "\n",
        "\n",
        "batch_size = 100\n",
        "num_classes = 10\n",
        "epochs = 75\n",
        "\n",
        "\n",
        "#### LOAD AND TRANSFORM\n",
        "(x_train, y_train), (x_test, y_test) = cifar10.load_data()\n",
        "\n",
        "x_train = x_train.astype('float32')\n",
        "x_test = x_test.astype('float32')\n",
        "\n",
        "x_train /= 255\n",
        "x_test /= 255\n",
        "\n",
        "print(x_train.shape)\n",
        "print(x_test.shape)\n",
        "\n",
        "y_train = keras.utils.to_categorical(y_train, num_classes)\n",
        "y_test = keras.utils.to_categorical(y_test, num_classes)"
      ],
      "execution_count": 0,
      "outputs": [
        {
          "output_type": "stream",
          "text": [
            "TensorFlow 1.x selected.\n"
          ],
          "name": "stdout"
        },
        {
          "output_type": "stream",
          "text": [
            "Using TensorFlow backend.\n"
          ],
          "name": "stderr"
        },
        {
          "output_type": "stream",
          "text": [
            "Downloading data from https://www.cs.toronto.edu/~kriz/cifar-10-python.tar.gz\n",
            "170500096/170498071 [==============================] - 4s 0us/step\n",
            "(50000, 32, 32, 3)\n",
            "(10000, 32, 32, 3)\n"
          ],
          "name": "stdout"
        }
      ]
    },
    {
      "cell_type": "markdown",
      "metadata": {
        "id": "1BpyLWl0uZzC",
        "colab_type": "text"
      },
      "source": [
        "# **Data Augmentation**"
      ]
    },
    {
      "cell_type": "code",
      "metadata": {
        "id": "Admv47HoudTg",
        "colab_type": "code",
        "outputId": "067da97a-5875-49e0-f495-32f1354bc79c",
        "colab": {
          "base_uri": "https://localhost:8080/",
          "height": 34
        }
      },
      "source": [
        "## DEFINE A DATA AUGMENTATION GENERATOR\n",
        "\n",
        "datagen = ImageDataGenerator(\n",
        "    width_shift_range=0.3,\n",
        "    height_shift_range=0.3,\n",
        "    rotation_range=20,\n",
        "    zoom_range=[1.0,1.2],\n",
        "    horizontal_flip=True)\n",
        "\n",
        "print(\"Data Augmentation created\")"
      ],
      "execution_count": 0,
      "outputs": [
        {
          "output_type": "stream",
          "text": [
            "Data Augmentation created\n"
          ],
          "name": "stdout"
        }
      ]
    },
    {
      "cell_type": "markdown",
      "metadata": {
        "id": "oQz3KBPcughX",
        "colab_type": "text"
      },
      "source": [
        "# **Convolutional Block**"
      ]
    },
    {
      "cell_type": "code",
      "metadata": {
        "id": "ZgenPrS4uo4C",
        "colab_type": "code",
        "outputId": "4e04cc84-65c1-4557-e368-83b96f70b02e",
        "colab": {
          "base_uri": "https://localhost:8080/",
          "height": 34
        }
      },
      "source": [
        "## DEF A BLOCK CONV + BN + GN + MAXPOOL\n",
        "def CBGN(model,filters,ishape=0, num_blocks=1, C=False):\n",
        "  for i in range(num_blocks):\n",
        "    if (ishape!=0):\n",
        "      model.add(Conv2D(filters, (3, 3), padding='same',\n",
        "                  input_shape=ishape))\n",
        "    else:\n",
        "      if i >= 2 and C:\n",
        "        model.add(Conv2D(filters, (1, 1), padding='same'))\n",
        "      else:\n",
        "        model.add(Conv2D(filters, (3, 3), padding='same'))\n",
        "\n",
        "    model.add(BN())\n",
        "    model.add(GN(0.3))\n",
        "    model.add(Activation('relu'))\n",
        "\n",
        "  model.add(MaxPooling2D(pool_size=(2, 2)))\n",
        "  \n",
        "  \n",
        "  return model\n",
        "\n",
        "print(\"Convolutional block defined\")"
      ],
      "execution_count": 0,
      "outputs": [
        {
          "output_type": "stream",
          "text": [
            "Convolutional block defined\n"
          ],
          "name": "stdout"
        }
      ]
    },
    {
      "cell_type": "markdown",
      "metadata": {
        "id": "nWiwXLCmux3C",
        "colab_type": "text"
      },
      "source": [
        "# **Topología**"
      ]
    },
    {
      "cell_type": "code",
      "metadata": {
        "id": "5sN6_Iy3u0B4",
        "colab_type": "code",
        "colab": {}
      },
      "source": [
        "## DEF VGG TOPOLOGY  \n",
        "def def_vgg(num_blocks64=1,num_blocks128=1,num_blocks256=2,num_blocks512a=2,num_blocks512b=2, C=False):\n",
        "    vgg = Sequential()\n",
        "\n",
        "    vgg=CBGN(vgg,64,x_train.shape[1:],num_blocks64)\n",
        "    vgg=CBGN(vgg,128,0,num_blocks128)\n",
        "    vgg=CBGN(vgg,256,0,num_blocks256,C)\n",
        "    vgg=CBGN(vgg,512,0,num_blocks512a,C)\n",
        "    vgg=CBGN(vgg,512,0,num_blocks512b,C)\n",
        "\n",
        "    vgg.add(Flatten())\n",
        "    vgg.add(Dense(4096))\n",
        "    vgg.add(Activation('relu'))\n",
        "    vgg.add(Dense(4096))\n",
        "    vgg.add(Activation('relu'))\n",
        "\n",
        "    vgg.add(Dense(num_classes))\n",
        "    vgg.add(Activation('softmax'))\n",
        "\n",
        "    return vgg"
      ],
      "execution_count": 0,
      "outputs": []
    },
    {
      "cell_type": "markdown",
      "metadata": {
        "id": "yMVQMzW33QbU",
        "colab_type": "text"
      },
      "source": [
        "# **Definición del modelo y summary**"
      ]
    },
    {
      "cell_type": "code",
      "metadata": {
        "id": "TqI_0pGo3Whs",
        "colab_type": "code",
        "outputId": "953d1680-1a12-41ed-f714-512a43721744",
        "colab": {
          "base_uri": "https://localhost:8080/",
          "height": 1000
        }
      },
      "source": [
        "#model = def_vgg(1,1,2,2,2)#A\n",
        "\n",
        "#model = def_vgg(2,2,2,2,2)#B\n",
        "\n",
        "#model = def_vgg(2,2,3,3,3,True)#C\n",
        "\n",
        "#model = def_vgg(2,2,3,3,3)#D\n",
        "\n",
        "model = def_vgg(2,2,4,4,4)#E\n",
        "\n",
        "model.summary()"
      ],
      "execution_count": 0,
      "outputs": [
        {
          "output_type": "stream",
          "text": [
            "Model: \"sequential_20\"\n",
            "_________________________________________________________________\n",
            "Layer (type)                 Output Shape              Param #   \n",
            "=================================================================\n",
            "conv2d_194 (Conv2D)          (None, 32, 32, 64)        1792      \n",
            "_________________________________________________________________\n",
            "batch_normalization_194 (Bat (None, 32, 32, 64)        256       \n",
            "_________________________________________________________________\n",
            "gaussian_noise_194 (Gaussian (None, 32, 32, 64)        0         \n",
            "_________________________________________________________________\n",
            "activation_251 (Activation)  (None, 32, 32, 64)        0         \n",
            "_________________________________________________________________\n",
            "conv2d_195 (Conv2D)          (None, 32, 32, 64)        36928     \n",
            "_________________________________________________________________\n",
            "batch_normalization_195 (Bat (None, 32, 32, 64)        256       \n",
            "_________________________________________________________________\n",
            "gaussian_noise_195 (Gaussian (None, 32, 32, 64)        0         \n",
            "_________________________________________________________________\n",
            "activation_252 (Activation)  (None, 32, 32, 64)        0         \n",
            "_________________________________________________________________\n",
            "max_pooling2d_96 (MaxPooling (None, 16, 16, 64)        0         \n",
            "_________________________________________________________________\n",
            "conv2d_196 (Conv2D)          (None, 16, 16, 128)       73856     \n",
            "_________________________________________________________________\n",
            "batch_normalization_196 (Bat (None, 16, 16, 128)       512       \n",
            "_________________________________________________________________\n",
            "gaussian_noise_196 (Gaussian (None, 16, 16, 128)       0         \n",
            "_________________________________________________________________\n",
            "activation_253 (Activation)  (None, 16, 16, 128)       0         \n",
            "_________________________________________________________________\n",
            "conv2d_197 (Conv2D)          (None, 16, 16, 128)       147584    \n",
            "_________________________________________________________________\n",
            "batch_normalization_197 (Bat (None, 16, 16, 128)       512       \n",
            "_________________________________________________________________\n",
            "gaussian_noise_197 (Gaussian (None, 16, 16, 128)       0         \n",
            "_________________________________________________________________\n",
            "activation_254 (Activation)  (None, 16, 16, 128)       0         \n",
            "_________________________________________________________________\n",
            "max_pooling2d_97 (MaxPooling (None, 8, 8, 128)         0         \n",
            "_________________________________________________________________\n",
            "conv2d_198 (Conv2D)          (None, 8, 8, 256)         295168    \n",
            "_________________________________________________________________\n",
            "batch_normalization_198 (Bat (None, 8, 8, 256)         1024      \n",
            "_________________________________________________________________\n",
            "gaussian_noise_198 (Gaussian (None, 8, 8, 256)         0         \n",
            "_________________________________________________________________\n",
            "activation_255 (Activation)  (None, 8, 8, 256)         0         \n",
            "_________________________________________________________________\n",
            "conv2d_199 (Conv2D)          (None, 8, 8, 256)         590080    \n",
            "_________________________________________________________________\n",
            "batch_normalization_199 (Bat (None, 8, 8, 256)         1024      \n",
            "_________________________________________________________________\n",
            "gaussian_noise_199 (Gaussian (None, 8, 8, 256)         0         \n",
            "_________________________________________________________________\n",
            "activation_256 (Activation)  (None, 8, 8, 256)         0         \n",
            "_________________________________________________________________\n",
            "conv2d_200 (Conv2D)          (None, 8, 8, 256)         590080    \n",
            "_________________________________________________________________\n",
            "batch_normalization_200 (Bat (None, 8, 8, 256)         1024      \n",
            "_________________________________________________________________\n",
            "gaussian_noise_200 (Gaussian (None, 8, 8, 256)         0         \n",
            "_________________________________________________________________\n",
            "activation_257 (Activation)  (None, 8, 8, 256)         0         \n",
            "_________________________________________________________________\n",
            "conv2d_201 (Conv2D)          (None, 8, 8, 256)         590080    \n",
            "_________________________________________________________________\n",
            "batch_normalization_201 (Bat (None, 8, 8, 256)         1024      \n",
            "_________________________________________________________________\n",
            "gaussian_noise_201 (Gaussian (None, 8, 8, 256)         0         \n",
            "_________________________________________________________________\n",
            "activation_258 (Activation)  (None, 8, 8, 256)         0         \n",
            "_________________________________________________________________\n",
            "max_pooling2d_98 (MaxPooling (None, 4, 4, 256)         0         \n",
            "_________________________________________________________________\n",
            "conv2d_202 (Conv2D)          (None, 4, 4, 512)         1180160   \n",
            "_________________________________________________________________\n",
            "batch_normalization_202 (Bat (None, 4, 4, 512)         2048      \n",
            "_________________________________________________________________\n",
            "gaussian_noise_202 (Gaussian (None, 4, 4, 512)         0         \n",
            "_________________________________________________________________\n",
            "activation_259 (Activation)  (None, 4, 4, 512)         0         \n",
            "_________________________________________________________________\n",
            "conv2d_203 (Conv2D)          (None, 4, 4, 512)         2359808   \n",
            "_________________________________________________________________\n",
            "batch_normalization_203 (Bat (None, 4, 4, 512)         2048      \n",
            "_________________________________________________________________\n",
            "gaussian_noise_203 (Gaussian (None, 4, 4, 512)         0         \n",
            "_________________________________________________________________\n",
            "activation_260 (Activation)  (None, 4, 4, 512)         0         \n",
            "_________________________________________________________________\n",
            "conv2d_204 (Conv2D)          (None, 4, 4, 512)         2359808   \n",
            "_________________________________________________________________\n",
            "batch_normalization_204 (Bat (None, 4, 4, 512)         2048      \n",
            "_________________________________________________________________\n",
            "gaussian_noise_204 (Gaussian (None, 4, 4, 512)         0         \n",
            "_________________________________________________________________\n",
            "activation_261 (Activation)  (None, 4, 4, 512)         0         \n",
            "_________________________________________________________________\n",
            "conv2d_205 (Conv2D)          (None, 4, 4, 512)         2359808   \n",
            "_________________________________________________________________\n",
            "batch_normalization_205 (Bat (None, 4, 4, 512)         2048      \n",
            "_________________________________________________________________\n",
            "gaussian_noise_205 (Gaussian (None, 4, 4, 512)         0         \n",
            "_________________________________________________________________\n",
            "activation_262 (Activation)  (None, 4, 4, 512)         0         \n",
            "_________________________________________________________________\n",
            "max_pooling2d_99 (MaxPooling (None, 2, 2, 512)         0         \n",
            "_________________________________________________________________\n",
            "conv2d_206 (Conv2D)          (None, 2, 2, 512)         2359808   \n",
            "_________________________________________________________________\n",
            "batch_normalization_206 (Bat (None, 2, 2, 512)         2048      \n",
            "_________________________________________________________________\n",
            "gaussian_noise_206 (Gaussian (None, 2, 2, 512)         0         \n",
            "_________________________________________________________________\n",
            "activation_263 (Activation)  (None, 2, 2, 512)         0         \n",
            "_________________________________________________________________\n",
            "conv2d_207 (Conv2D)          (None, 2, 2, 512)         2359808   \n",
            "_________________________________________________________________\n",
            "batch_normalization_207 (Bat (None, 2, 2, 512)         2048      \n",
            "_________________________________________________________________\n",
            "gaussian_noise_207 (Gaussian (None, 2, 2, 512)         0         \n",
            "_________________________________________________________________\n",
            "activation_264 (Activation)  (None, 2, 2, 512)         0         \n",
            "_________________________________________________________________\n",
            "conv2d_208 (Conv2D)          (None, 2, 2, 512)         2359808   \n",
            "_________________________________________________________________\n",
            "batch_normalization_208 (Bat (None, 2, 2, 512)         2048      \n",
            "_________________________________________________________________\n",
            "gaussian_noise_208 (Gaussian (None, 2, 2, 512)         0         \n",
            "_________________________________________________________________\n",
            "activation_265 (Activation)  (None, 2, 2, 512)         0         \n",
            "_________________________________________________________________\n",
            "conv2d_209 (Conv2D)          (None, 2, 2, 512)         2359808   \n",
            "_________________________________________________________________\n",
            "batch_normalization_209 (Bat (None, 2, 2, 512)         2048      \n",
            "_________________________________________________________________\n",
            "gaussian_noise_209 (Gaussian (None, 2, 2, 512)         0         \n",
            "_________________________________________________________________\n",
            "activation_266 (Activation)  (None, 2, 2, 512)         0         \n",
            "_________________________________________________________________\n",
            "max_pooling2d_100 (MaxPoolin (None, 1, 1, 512)         0         \n",
            "_________________________________________________________________\n",
            "flatten_20 (Flatten)         (None, 512)               0         \n",
            "_________________________________________________________________\n",
            "dense_58 (Dense)             (None, 4096)              2101248   \n",
            "_________________________________________________________________\n",
            "activation_267 (Activation)  (None, 4096)              0         \n",
            "_________________________________________________________________\n",
            "dense_59 (Dense)             (None, 4096)              16781312  \n",
            "_________________________________________________________________\n",
            "activation_268 (Activation)  (None, 4096)              0         \n",
            "_________________________________________________________________\n",
            "dense_60 (Dense)             (None, 10)                40970     \n",
            "_________________________________________________________________\n",
            "activation_269 (Activation)  (None, 10)                0         \n",
            "=================================================================\n",
            "Total params: 38,969,930\n",
            "Trainable params: 38,958,922\n",
            "Non-trainable params: 11,008\n",
            "_________________________________________________________________\n"
          ],
          "name": "stdout"
        }
      ]
    },
    {
      "cell_type": "markdown",
      "metadata": {
        "id": "rCgE48Ysu3Gh",
        "colab_type": "text"
      },
      "source": [
        "# **Optimizador y compilación**"
      ]
    },
    {
      "cell_type": "code",
      "metadata": {
        "id": "oNaImFTUu8_t",
        "colab_type": "code",
        "colab": {}
      },
      "source": [
        "## OPTIM AND COMPILE\n",
        "opt = SGD(lr=0.1, decay=1e-6)\n",
        "\n",
        "model.compile(loss='categorical_crossentropy',\n",
        "              optimizer=opt,\n",
        "              metrics=['accuracy'])"
      ],
      "execution_count": 0,
      "outputs": []
    },
    {
      "cell_type": "markdown",
      "metadata": {
        "id": "kf3z5_cYvATv",
        "colab_type": "text"
      },
      "source": [
        "# **Learning Rate**"
      ]
    },
    {
      "cell_type": "code",
      "metadata": {
        "id": "I8DK6hUevEI5",
        "colab_type": "code",
        "outputId": "f2caa9d2-38ca-4978-a75e-8bb4944ccfb1",
        "colab": {
          "base_uri": "https://localhost:8080/",
          "height": 34
        }
      },
      "source": [
        "# DEFINE A LEARNING RATE SCHEDULER\n",
        "def scheduler(epoch):\n",
        "    if epoch < 25:\n",
        "        return .1\n",
        "    elif epoch < 50:\n",
        "        return 0.01\n",
        "    else:\n",
        "        return 0.001\n",
        "\n",
        "set_lr = LRS(scheduler)\n",
        "\n",
        "print(\"Learning Rate scheduled\")"
      ],
      "execution_count": 0,
      "outputs": [
        {
          "output_type": "stream",
          "text": [
            "Learning Rate scheduled\n"
          ],
          "name": "stdout"
        }
      ]
    },
    {
      "cell_type": "markdown",
      "metadata": {
        "id": "5GP-5Rn4vHbx",
        "colab_type": "text"
      },
      "source": [
        "# **Training**"
      ]
    },
    {
      "cell_type": "code",
      "metadata": {
        "id": "nLNAuRk2vKJB",
        "colab_type": "code",
        "outputId": "8c59e2d3-68a1-4373-e964-83a49b0eabad",
        "colab": {
          "base_uri": "https://localhost:8080/",
          "height": 1000
        }
      },
      "source": [
        "## TRAINING with DA and LRA\n",
        "history=model.fit_generator(datagen.flow(x_train, y_train,batch_size=batch_size),\n",
        "                            steps_per_epoch=len(x_train) / batch_size, \n",
        "                            epochs=epochs,\n",
        "                            validation_data=(x_test, y_test),\n",
        "                            callbacks=[set_lr],\n",
        "                            verbose=1)"
      ],
      "execution_count": 0,
      "outputs": [
        {
          "output_type": "stream",
          "text": [
            "Epoch 1/75\n",
            "500/500 [==============================] - 40s 80ms/step - loss: 1.8908 - accuracy: 0.2874 - val_loss: 2.0525 - val_accuracy: 0.3078\n",
            "Epoch 2/75\n",
            "500/500 [==============================] - 35s 70ms/step - loss: 1.4776 - accuracy: 0.4561 - val_loss: 1.6458 - val_accuracy: 0.4666\n",
            "Epoch 3/75\n",
            "500/500 [==============================] - 35s 71ms/step - loss: 1.2453 - accuracy: 0.5512 - val_loss: 1.4526 - val_accuracy: 0.5561\n",
            "Epoch 4/75\n",
            "500/500 [==============================] - 35s 70ms/step - loss: 1.0886 - accuracy: 0.6124 - val_loss: 1.2521 - val_accuracy: 0.6196\n",
            "Epoch 5/75\n",
            "500/500 [==============================] - 35s 71ms/step - loss: 0.9878 - accuracy: 0.6540 - val_loss: 1.0364 - val_accuracy: 0.6625\n",
            "Epoch 6/75\n",
            "500/500 [==============================] - 35s 71ms/step - loss: 0.9014 - accuracy: 0.6873 - val_loss: 1.0797 - val_accuracy: 0.6696\n",
            "Epoch 7/75\n",
            "500/500 [==============================] - 35s 71ms/step - loss: 0.8358 - accuracy: 0.7118 - val_loss: 1.0737 - val_accuracy: 0.6807\n",
            "Epoch 8/75\n",
            "500/500 [==============================] - 35s 71ms/step - loss: 0.7872 - accuracy: 0.7309 - val_loss: 1.0568 - val_accuracy: 0.6724\n",
            "Epoch 9/75\n",
            "500/500 [==============================] - 35s 71ms/step - loss: 0.7375 - accuracy: 0.7471 - val_loss: 0.7133 - val_accuracy: 0.7652\n",
            "Epoch 10/75\n",
            "500/500 [==============================] - 35s 71ms/step - loss: 0.6995 - accuracy: 0.7600 - val_loss: 0.7227 - val_accuracy: 0.7645\n",
            "Epoch 11/75\n",
            "500/500 [==============================] - 35s 71ms/step - loss: 0.6718 - accuracy: 0.7685 - val_loss: 0.8722 - val_accuracy: 0.7212\n",
            "Epoch 12/75\n",
            "500/500 [==============================] - 35s 71ms/step - loss: 0.6419 - accuracy: 0.7805 - val_loss: 0.6546 - val_accuracy: 0.7933\n",
            "Epoch 13/75\n",
            "500/500 [==============================] - 35s 71ms/step - loss: 0.6173 - accuracy: 0.7890 - val_loss: 0.8324 - val_accuracy: 0.7354\n",
            "Epoch 14/75\n",
            "500/500 [==============================] - 35s 71ms/step - loss: 0.5930 - accuracy: 0.7984 - val_loss: 0.5829 - val_accuracy: 0.8066\n",
            "Epoch 15/75\n",
            "500/500 [==============================] - 36s 71ms/step - loss: 0.5726 - accuracy: 0.8050 - val_loss: 0.7397 - val_accuracy: 0.7788\n",
            "Epoch 16/75\n",
            "500/500 [==============================] - 35s 71ms/step - loss: 0.5539 - accuracy: 0.8109 - val_loss: 0.6085 - val_accuracy: 0.8074\n",
            "Epoch 17/75\n",
            "500/500 [==============================] - 35s 71ms/step - loss: 0.5338 - accuracy: 0.8187 - val_loss: 0.6003 - val_accuracy: 0.8059\n",
            "Epoch 18/75\n",
            "500/500 [==============================] - 36s 71ms/step - loss: 0.5184 - accuracy: 0.8234 - val_loss: 0.6815 - val_accuracy: 0.7927\n",
            "Epoch 19/75\n",
            "500/500 [==============================] - 35s 71ms/step - loss: 0.5042 - accuracy: 0.8278 - val_loss: 0.4526 - val_accuracy: 0.8505\n",
            "Epoch 20/75\n",
            "500/500 [==============================] - 34s 68ms/step - loss: 0.4912 - accuracy: 0.8329 - val_loss: 0.4688 - val_accuracy: 0.8417\n",
            "Epoch 21/75\n",
            "500/500 [==============================] - 34s 68ms/step - loss: 0.4788 - accuracy: 0.8354 - val_loss: 0.5414 - val_accuracy: 0.8236\n",
            "Epoch 22/75\n",
            "500/500 [==============================] - 34s 67ms/step - loss: 0.4657 - accuracy: 0.8396 - val_loss: 0.5207 - val_accuracy: 0.8373\n",
            "Epoch 23/75\n",
            "500/500 [==============================] - 34s 68ms/step - loss: 0.4523 - accuracy: 0.8459 - val_loss: 0.4497 - val_accuracy: 0.8533\n",
            "Epoch 24/75\n",
            "500/500 [==============================] - 34s 68ms/step - loss: 0.4392 - accuracy: 0.8498 - val_loss: 0.6172 - val_accuracy: 0.8075\n",
            "Epoch 25/75\n",
            "500/500 [==============================] - 34s 67ms/step - loss: 0.4329 - accuracy: 0.8506 - val_loss: 0.7378 - val_accuracy: 0.7832\n",
            "Epoch 26/75\n",
            "500/500 [==============================] - 34s 68ms/step - loss: 0.3565 - accuracy: 0.8769 - val_loss: 0.3320 - val_accuracy: 0.8909\n",
            "Epoch 27/75\n",
            "500/500 [==============================] - 34s 67ms/step - loss: 0.3324 - accuracy: 0.8853 - val_loss: 0.3366 - val_accuracy: 0.8907\n",
            "Epoch 28/75\n",
            "500/500 [==============================] - 34s 67ms/step - loss: 0.3245 - accuracy: 0.8865 - val_loss: 0.3413 - val_accuracy: 0.8884\n",
            "Epoch 29/75\n",
            "500/500 [==============================] - 34s 67ms/step - loss: 0.3234 - accuracy: 0.8887 - val_loss: 0.3363 - val_accuracy: 0.8891\n",
            "Epoch 30/75\n",
            "500/500 [==============================] - 34s 67ms/step - loss: 0.3181 - accuracy: 0.8910 - val_loss: 0.3342 - val_accuracy: 0.8897\n",
            "Epoch 31/75\n",
            "500/500 [==============================] - 34s 67ms/step - loss: 0.3122 - accuracy: 0.8923 - val_loss: 0.3378 - val_accuracy: 0.8888\n",
            "Epoch 32/75\n",
            "500/500 [==============================] - 34s 67ms/step - loss: 0.3041 - accuracy: 0.8950 - val_loss: 0.3306 - val_accuracy: 0.8922\n",
            "Epoch 33/75\n",
            "500/500 [==============================] - 34s 68ms/step - loss: 0.3077 - accuracy: 0.8940 - val_loss: 0.3406 - val_accuracy: 0.8903\n",
            "Epoch 34/75\n",
            "500/500 [==============================] - 34s 67ms/step - loss: 0.3036 - accuracy: 0.8947 - val_loss: 0.3359 - val_accuracy: 0.8939\n",
            "Epoch 35/75\n",
            "500/500 [==============================] - 34s 67ms/step - loss: 0.2977 - accuracy: 0.8955 - val_loss: 0.3263 - val_accuracy: 0.8943\n",
            "Epoch 36/75\n",
            "500/500 [==============================] - 35s 69ms/step - loss: 0.3018 - accuracy: 0.8955 - val_loss: 0.3403 - val_accuracy: 0.8898\n",
            "Epoch 37/75\n",
            "500/500 [==============================] - 35s 69ms/step - loss: 0.3001 - accuracy: 0.8962 - val_loss: 0.3397 - val_accuracy: 0.8917\n",
            "Epoch 38/75\n",
            "500/500 [==============================] - 35s 69ms/step - loss: 0.2957 - accuracy: 0.8980 - val_loss: 0.3243 - val_accuracy: 0.8943\n",
            "Epoch 39/75\n",
            "500/500 [==============================] - 34s 68ms/step - loss: 0.2948 - accuracy: 0.8975 - val_loss: 0.3193 - val_accuracy: 0.8969\n",
            "Epoch 40/75\n",
            "500/500 [==============================] - 35s 70ms/step - loss: 0.2887 - accuracy: 0.8980 - val_loss: 0.3282 - val_accuracy: 0.8955\n",
            "Epoch 41/75\n",
            "500/500 [==============================] - 35s 69ms/step - loss: 0.2862 - accuracy: 0.9003 - val_loss: 0.3433 - val_accuracy: 0.8908\n",
            "Epoch 42/75\n",
            "500/500 [==============================] - 35s 70ms/step - loss: 0.2855 - accuracy: 0.8997 - val_loss: 0.3433 - val_accuracy: 0.8915\n",
            "Epoch 43/75\n",
            "500/500 [==============================] - 35s 69ms/step - loss: 0.2852 - accuracy: 0.9022 - val_loss: 0.3144 - val_accuracy: 0.8986\n",
            "Epoch 44/75\n",
            "500/500 [==============================] - 35s 70ms/step - loss: 0.2874 - accuracy: 0.9013 - val_loss: 0.3228 - val_accuracy: 0.8955\n",
            "Epoch 45/75\n",
            "500/500 [==============================] - 35s 70ms/step - loss: 0.2857 - accuracy: 0.9008 - val_loss: 0.3630 - val_accuracy: 0.8843\n",
            "Epoch 46/75\n",
            "500/500 [==============================] - 35s 70ms/step - loss: 0.2826 - accuracy: 0.9013 - val_loss: 0.3441 - val_accuracy: 0.8898\n",
            "Epoch 47/75\n",
            "500/500 [==============================] - 35s 70ms/step - loss: 0.2752 - accuracy: 0.9041 - val_loss: 0.3296 - val_accuracy: 0.8940\n",
            "Epoch 48/75\n",
            "500/500 [==============================] - 35s 70ms/step - loss: 0.2765 - accuracy: 0.9036 - val_loss: 0.3288 - val_accuracy: 0.8944\n",
            "Epoch 49/75\n",
            "500/500 [==============================] - 35s 70ms/step - loss: 0.2694 - accuracy: 0.9066 - val_loss: 0.3222 - val_accuracy: 0.8979\n",
            "Epoch 50/75\n",
            "500/500 [==============================] - 35s 70ms/step - loss: 0.2702 - accuracy: 0.9065 - val_loss: 0.3257 - val_accuracy: 0.8947\n",
            "Epoch 51/75\n",
            "500/500 [==============================] - 35s 70ms/step - loss: 0.2680 - accuracy: 0.9081 - val_loss: 0.3198 - val_accuracy: 0.8972\n",
            "Epoch 52/75\n",
            "500/500 [==============================] - 35s 70ms/step - loss: 0.2615 - accuracy: 0.9086 - val_loss: 0.3181 - val_accuracy: 0.8981\n",
            "Epoch 53/75\n",
            "500/500 [==============================] - 35s 70ms/step - loss: 0.2582 - accuracy: 0.9115 - val_loss: 0.3183 - val_accuracy: 0.8981\n",
            "Epoch 54/75\n",
            "500/500 [==============================] - 35s 70ms/step - loss: 0.2612 - accuracy: 0.9094 - val_loss: 0.3207 - val_accuracy: 0.8977\n",
            "Epoch 55/75\n",
            "500/500 [==============================] - 35s 70ms/step - loss: 0.2571 - accuracy: 0.9085 - val_loss: 0.3182 - val_accuracy: 0.8988\n",
            "Epoch 56/75\n",
            "500/500 [==============================] - 35s 70ms/step - loss: 0.2578 - accuracy: 0.9099 - val_loss: 0.3195 - val_accuracy: 0.8994\n",
            "Epoch 57/75\n",
            "500/500 [==============================] - 35s 69ms/step - loss: 0.2602 - accuracy: 0.9081 - val_loss: 0.3164 - val_accuracy: 0.8997\n",
            "Epoch 58/75\n",
            "500/500 [==============================] - 35s 69ms/step - loss: 0.2562 - accuracy: 0.9108 - val_loss: 0.3175 - val_accuracy: 0.8999\n",
            "Epoch 59/75\n",
            "500/500 [==============================] - 35s 70ms/step - loss: 0.2587 - accuracy: 0.9109 - val_loss: 0.3192 - val_accuracy: 0.8990\n",
            "Epoch 60/75\n",
            "500/500 [==============================] - 36s 71ms/step - loss: 0.2573 - accuracy: 0.9101 - val_loss: 0.3162 - val_accuracy: 0.9011\n",
            "Epoch 61/75\n",
            "500/500 [==============================] - 36s 71ms/step - loss: 0.2590 - accuracy: 0.9104 - val_loss: 0.3174 - val_accuracy: 0.9006\n",
            "Epoch 62/75\n",
            "500/500 [==============================] - 35s 71ms/step - loss: 0.2594 - accuracy: 0.9094 - val_loss: 0.3188 - val_accuracy: 0.9012\n",
            "Epoch 63/75\n",
            "500/500 [==============================] - 35s 70ms/step - loss: 0.2598 - accuracy: 0.9090 - val_loss: 0.3175 - val_accuracy: 0.9009\n",
            "Epoch 64/75\n",
            "500/500 [==============================] - 35s 70ms/step - loss: 0.2557 - accuracy: 0.9109 - val_loss: 0.3164 - val_accuracy: 0.9013\n",
            "Epoch 65/75\n",
            "500/500 [==============================] - 35s 70ms/step - loss: 0.2590 - accuracy: 0.9102 - val_loss: 0.3185 - val_accuracy: 0.9015\n",
            "Epoch 66/75\n",
            "500/500 [==============================] - 35s 70ms/step - loss: 0.2588 - accuracy: 0.9100 - val_loss: 0.3180 - val_accuracy: 0.8999\n",
            "Epoch 67/75\n",
            "500/500 [==============================] - 35s 70ms/step - loss: 0.2595 - accuracy: 0.9101 - val_loss: 0.3187 - val_accuracy: 0.9005\n",
            "Epoch 68/75\n",
            "500/500 [==============================] - 35s 70ms/step - loss: 0.2603 - accuracy: 0.9096 - val_loss: 0.3182 - val_accuracy: 0.9003\n",
            "Epoch 69/75\n",
            "500/500 [==============================] - 36s 71ms/step - loss: 0.2577 - accuracy: 0.9109 - val_loss: 0.3168 - val_accuracy: 0.9008\n",
            "Epoch 70/75\n",
            "500/500 [==============================] - 35s 71ms/step - loss: 0.2542 - accuracy: 0.9115 - val_loss: 0.3161 - val_accuracy: 0.9002\n",
            "Epoch 71/75\n",
            "500/500 [==============================] - 35s 71ms/step - loss: 0.2542 - accuracy: 0.9107 - val_loss: 0.3192 - val_accuracy: 0.9002\n",
            "Epoch 72/75\n",
            "500/500 [==============================] - 36s 71ms/step - loss: 0.2570 - accuracy: 0.9108 - val_loss: 0.3185 - val_accuracy: 0.9003\n",
            "Epoch 73/75\n",
            "500/500 [==============================] - 35s 71ms/step - loss: 0.2551 - accuracy: 0.9113 - val_loss: 0.3191 - val_accuracy: 0.9000\n",
            "Epoch 74/75\n",
            "500/500 [==============================] - 35s 71ms/step - loss: 0.2555 - accuracy: 0.9116 - val_loss: 0.3154 - val_accuracy: 0.9010\n",
            "Epoch 75/75\n",
            "500/500 [==============================] - 35s 71ms/step - loss: 0.2555 - accuracy: 0.9106 - val_loss: 0.3176 - val_accuracy: 0.9008\n"
          ],
          "name": "stdout"
        }
      ]
    },
    {
      "cell_type": "markdown",
      "metadata": {
        "id": "v1QjmCZyvN8B",
        "colab_type": "text"
      },
      "source": [
        "# **Test**"
      ]
    },
    {
      "cell_type": "code",
      "metadata": {
        "id": "usUfPIFHo3_E",
        "colab_type": "code",
        "outputId": "1c5c34a9-f59f-4445-c751-f0f6c9b07c7f",
        "colab": {
          "base_uri": "https://localhost:8080/",
          "height": 67
        }
      },
      "source": [
        "## TEST\n",
        "scores = model.evaluate(x_test, y_test, verbose=1)\n",
        "print('Test loss:', scores[0])\n",
        "print('Test accuracy:', scores[1])"
      ],
      "execution_count": 0,
      "outputs": [
        {
          "output_type": "stream",
          "text": [
            "10000/10000 [==============================] - 3s 274us/step\n",
            "Test loss: 0.3182380014955997\n",
            "Test accuracy: 0.8978000283241272\n"
          ],
          "name": "stdout"
        }
      ]
    }
  ]
}